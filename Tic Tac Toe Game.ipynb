{
 "cells": [
  {
   "cell_type": "code",
   "execution_count": 13,
   "id": "ced88443-4f87-4d40-bb95-66bbbbba34ed",
   "metadata": {},
   "outputs": [],
   "source": [
    "from IPython.display import clear_output"
   ]
  },
  {
   "cell_type": "code",
   "execution_count": 15,
   "id": "dedd5d46-c2d5-4392-85dd-56dc83422d20",
   "metadata": {},
   "outputs": [],
   "source": [
    "def player_choice():\n",
    "    ch = \"\"\n",
    "    while ch not in ['X','O']:\n",
    "        ch = input(\"Enter X or O : \")\n",
    "        if ch not in ['X','O']:\n",
    "            print(\"Invalid choice!!!\")\n",
    "    if ch == 'X':\n",
    "        ch2 = 'O'\n",
    "    else:\n",
    "        ch2 = 'X'\n",
    "    return ch,ch2"
   ]
  },
  {
   "cell_type": "code",
   "execution_count": 33,
   "id": "7c088b6c-57d3-421a-acc1-b7e535af62dc",
   "metadata": {},
   "outputs": [],
   "source": [
    "def display(board):\n",
    "    clear_output()\n",
    "    print(f\"{board[1]}|{board[2]}|{board[3]}\")\n",
    "    print(\"-----\")\n",
    "    print(f\"{board[4]}|{board[5]}|{board[6]}\")\n",
    "    print(\"-----\")\n",
    "    print(f\"{board[7]}|{board[8]}|{board[9]}\")"
   ]
  },
  {
   "cell_type": "code",
   "execution_count": 89,
   "id": "71faefbc-9708-455d-9383-6185b4921aa3",
   "metadata": {},
   "outputs": [],
   "source": [
    "def pos_choice(board, player):\n",
    "    ch = \"\"\n",
    "    while ch not in [1,2,3,4,5,6,7,8,9]:\n",
    "        ch = int(input(f\"{player} Enter Position (1 - 9) : \"))\n",
    "        if ch not in [1,2,3,4,5,6,7,8,9]:\n",
    "            print(\"Invalid choice!!\")\n",
    "    if space_check(board, ch):\n",
    "        return ch\n",
    "    return pos_choice(board, player)"
   ]
  },
  {
   "cell_type": "code",
   "execution_count": 47,
   "id": "d4086935-d896-40a4-ab9b-6bee77ac2351",
   "metadata": {},
   "outputs": [],
   "source": [
    "def insert_at_pos(board, player_no, pos):\n",
    "    board[pos] = player_no"
   ]
  },
  {
   "cell_type": "code",
   "execution_count": 49,
   "id": "47379f45-3a7f-4f00-99f4-e8c83a409e90",
   "metadata": {},
   "outputs": [],
   "source": [
    "def board_empty(board):\n",
    "    for i in range(1,10):\n",
    "        if board[i] == \" \":\n",
    "            return False;\n",
    "    return True"
   ]
  },
  {
   "cell_type": "code",
   "execution_count": 53,
   "id": "65dc7dc9-b249-40be-af49-4f9e8d9d6da8",
   "metadata": {},
   "outputs": [],
   "source": [
    "def check_win(board, player_no):\n",
    "    if ((board[1] == board[2] == board[3] == player_no) or (board[4] == board[5] == board[6] == player_no) or (board[7] == board[8] == board[9] == player_no) or (board[1] == board[5] == board[9] == player_no) or (board[3] == board[5] == board[7] == player_no)):\n",
    "        return True\n",
    "    return False"
   ]
  },
  {
   "cell_type": "code",
   "execution_count": 55,
   "id": "e8acd280-5f60-4ef1-8f1a-df8b38551e2f",
   "metadata": {},
   "outputs": [],
   "source": [
    "def space_check(board, pos):\n",
    "    return board[pos] == \" \""
   ]
  },
  {
   "cell_type": "code",
   "execution_count": 79,
   "id": "a0b08371-3197-41e4-a899-e72bb52911f1",
   "metadata": {},
   "outputs": [],
   "source": [
    "def replay():\n",
    "    ch = \"\"\n",
    "    if ch not in [\"Yes\",\"No\"]:\n",
    "        ch = input(\"Want to play again? (Yes/No) : \")\n",
    "        if ch not in [\"Yes\",\"No\"]:\n",
    "            print(\"Invalid choice!!\")\n",
    "    if ch == 'Yes':\n",
    "        return True\n",
    "    return False"
   ]
  },
  {
   "cell_type": "code",
   "execution_count": null,
   "id": "96187418-eadc-4e22-b11a-b57b50feb76c",
   "metadata": {},
   "outputs": [],
   "source": []
  }
 ],
 "metadata": {
  "kernelspec": {
   "display_name": "Python 3 (ipykernel)",
   "language": "python",
   "name": "python3"
  },
  "language_info": {
   "codemirror_mode": {
    "name": "ipython",
    "version": 3
   },
   "file_extension": ".py",
   "mimetype": "text/x-python",
   "name": "python",
   "nbconvert_exporter": "python",
   "pygments_lexer": "ipython3",
   "version": "3.12.4"
  }
 },
 "nbformat": 4,
 "nbformat_minor": 5
}
